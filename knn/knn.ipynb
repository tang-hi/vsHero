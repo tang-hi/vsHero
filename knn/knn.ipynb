{
 "cells": [
  {
   "attachments": {},
   "cell_type": "markdown",
   "metadata": {},
   "source": [
    "## Vector Search: From Zero To Hero\n",
    "这一系列代码教程是为了让你在学习后能够对向量搜索有一定的认识和了解，通过该教程你可以\n",
    "- 对向量搜索的算法有一个清晰的认识\n",
    "- 自己动手实现一个简单的向量搜索库\n",
    "- 对不同的向量搜索算法有一个直观的感受\n",
    "\n",
    "该教程使用Python实现，如果你没有学过Python也不用紧张，Python十分简单易懂，并且该教程更专注于算法实现。\n",
    "\n",
    "该教程使用sift1M作为数据集。\n",
    "\n",
    "运行下面的code block，然后开始向量搜索之旅。"
   ]
  },
  {
   "cell_type": "code",
   "execution_count": 25,
   "metadata": {},
   "outputs": [
    {
     "name": "stdout",
     "output_type": "stream",
     "text": [
      "Welcome to Vector Search! Hope you will become Vector Search Hero!\n"
     ]
    }
   ],
   "source": [
    "print('Welcome to Vector Search! Hope you will become Vector Search Hero!')"
   ]
  },
  {
   "attachments": {},
   "cell_type": "markdown",
   "metadata": {},
   "source": [
    "### Prepare Data\n",
    "如果你已经下载了数据，可以直接跳过这个cell"
   ]
  },
  {
   "cell_type": "code",
   "execution_count": 26,
   "metadata": {},
   "outputs": [
    {
     "ename": "KeyboardInterrupt",
     "evalue": "",
     "output_type": "error",
     "traceback": [
      "\u001b[0;31m---------------------------------------------------------------------------\u001b[0m",
      "\u001b[0;31mKeyboardInterrupt\u001b[0m                         Traceback (most recent call last)",
      "Cell \u001b[0;32mIn[26], line 9\u001b[0m\n\u001b[1;32m      7\u001b[0m \u001b[39mwith\u001b[39;00m closing(request\u001b[39m.\u001b[39murlopen(\u001b[39m'\u001b[39m\u001b[39mftp://ftp.irisa.fr/local/texmex/corpus/sift.tar.gz\u001b[39m\u001b[39m'\u001b[39m)) \u001b[39mas\u001b[39;00m r:\n\u001b[1;32m      8\u001b[0m     \u001b[39mwith\u001b[39;00m \u001b[39mopen\u001b[39m(\u001b[39m'\u001b[39m\u001b[39msift.tar.gz\u001b[39m\u001b[39m'\u001b[39m, \u001b[39m'\u001b[39m\u001b[39mwb\u001b[39m\u001b[39m'\u001b[39m) \u001b[39mas\u001b[39;00m f:\n\u001b[0;32m----> 9\u001b[0m         shutil\u001b[39m.\u001b[39;49mcopyfileobj(r, f)\n\u001b[1;32m     12\u001b[0m \u001b[39m# the download leaves us with a tar.gz file, we unzip it\u001b[39;00m\n\u001b[1;32m     13\u001b[0m tar \u001b[39m=\u001b[39m tarfile\u001b[39m.\u001b[39mopen(\u001b[39m'\u001b[39m\u001b[39msift.tar.gz\u001b[39m\u001b[39m'\u001b[39m, \u001b[39m\"\u001b[39m\u001b[39mr:gz\u001b[39m\u001b[39m\"\u001b[39m)\n",
      "File \u001b[0;32m/usr/lib/python3.10/shutil.py:195\u001b[0m, in \u001b[0;36mcopyfileobj\u001b[0;34m(fsrc, fdst, length)\u001b[0m\n\u001b[1;32m    193\u001b[0m fdst_write \u001b[39m=\u001b[39m fdst\u001b[39m.\u001b[39mwrite\n\u001b[1;32m    194\u001b[0m \u001b[39mwhile\u001b[39;00m \u001b[39mTrue\u001b[39;00m:\n\u001b[0;32m--> 195\u001b[0m     buf \u001b[39m=\u001b[39m fsrc_read(length)\n\u001b[1;32m    196\u001b[0m     \u001b[39mif\u001b[39;00m \u001b[39mnot\u001b[39;00m buf:\n\u001b[1;32m    197\u001b[0m         \u001b[39mbreak\u001b[39;00m\n",
      "File \u001b[0;32m/usr/lib/python3.10/tempfile.py:622\u001b[0m, in \u001b[0;36m_TemporaryFileWrapper.__getattr__.<locals>.func_wrapper\u001b[0;34m(*args, **kwargs)\u001b[0m\n\u001b[1;32m    620\u001b[0m \u001b[39m@_functools\u001b[39m\u001b[39m.\u001b[39mwraps(func)\n\u001b[1;32m    621\u001b[0m \u001b[39mdef\u001b[39;00m \u001b[39mfunc_wrapper\u001b[39m(\u001b[39m*\u001b[39margs, \u001b[39m*\u001b[39m\u001b[39m*\u001b[39mkwargs):\n\u001b[0;32m--> 622\u001b[0m     \u001b[39mreturn\u001b[39;00m func(\u001b[39m*\u001b[39;49margs, \u001b[39m*\u001b[39;49m\u001b[39m*\u001b[39;49mkwargs)\n",
      "File \u001b[0;32m/usr/lib/python3.10/tempfile.py:622\u001b[0m, in \u001b[0;36m_TemporaryFileWrapper.__getattr__.<locals>.func_wrapper\u001b[0;34m(*args, **kwargs)\u001b[0m\n\u001b[1;32m    620\u001b[0m \u001b[39m@_functools\u001b[39m\u001b[39m.\u001b[39mwraps(func)\n\u001b[1;32m    621\u001b[0m \u001b[39mdef\u001b[39;00m \u001b[39mfunc_wrapper\u001b[39m(\u001b[39m*\u001b[39margs, \u001b[39m*\u001b[39m\u001b[39m*\u001b[39mkwargs):\n\u001b[0;32m--> 622\u001b[0m     \u001b[39mreturn\u001b[39;00m func(\u001b[39m*\u001b[39;49margs, \u001b[39m*\u001b[39;49m\u001b[39m*\u001b[39;49mkwargs)\n",
      "File \u001b[0;32m/usr/lib/python3.10/socket.py:705\u001b[0m, in \u001b[0;36mSocketIO.readinto\u001b[0;34m(self, b)\u001b[0m\n\u001b[1;32m    703\u001b[0m \u001b[39mwhile\u001b[39;00m \u001b[39mTrue\u001b[39;00m:\n\u001b[1;32m    704\u001b[0m     \u001b[39mtry\u001b[39;00m:\n\u001b[0;32m--> 705\u001b[0m         \u001b[39mreturn\u001b[39;00m \u001b[39mself\u001b[39;49m\u001b[39m.\u001b[39;49m_sock\u001b[39m.\u001b[39;49mrecv_into(b)\n\u001b[1;32m    706\u001b[0m     \u001b[39mexcept\u001b[39;00m timeout:\n\u001b[1;32m    707\u001b[0m         \u001b[39mself\u001b[39m\u001b[39m.\u001b[39m_timeout_occurred \u001b[39m=\u001b[39m \u001b[39mTrue\u001b[39;00m\n",
      "\u001b[0;31mKeyboardInterrupt\u001b[0m: "
     ]
    }
   ],
   "source": [
    "import shutil\n",
    "import urllib.request as request\n",
    "import tarfile\n",
    "from contextlib import closing\n",
    "\n",
    "# download the Sift1M dataset\n",
    "with closing(request.urlopen('ftp://ftp.irisa.fr/local/texmex/corpus/sift.tar.gz')) as r:\n",
    "    with open('sift.tar.gz', 'wb') as f:\n",
    "        shutil.copyfileobj(r, f)\n",
    "\n",
    "\n",
    "# the download leaves us with a tar.gz file, we unzip it\n",
    "tar = tarfile.open('sift.tar.gz', \"r:gz\")\n",
    "tar.extractall()"
   ]
  },
  {
   "attachments": {},
   "cell_type": "markdown",
   "metadata": {},
   "source": [
    "### The K-Nearest Neighbors (kNN)\n",
    "KNN 是向量搜索中最简单的一个算法，首先想象一个二维平面中有许多的点，当你想要得到距离某一个点最近的K个点时，最朴素的算法就是遍历所有的点，挨个计算距离\n",
    "并始终保存K个最近的点，当遍历结束，也就得到了最近的K个点。\n",
    "\n",
    "向量搜索中大部分的向量都是高维向量，但是思想是相同的，因此KNN算法可以很轻易的从二维空间延展到多维空间。\n",
    "\n",
    "KNN的缺点\n",
    "1. 计算量大\n",
    "2. 空间复杂度高\n",
    "\n",
    "优点就是简单易于实现，因此这一份教程以KNN作为开篇，让你可以更容易熟悉这个教程的流程。\n",
    "\n",
    "<img src=\"./resources/knn.png\" title=\"From Weaviate\" width=\"50%\" height=\"50%\">\n",
    "\n",
    "Picture From Weaviate"
   ]
  },
  {
   "attachments": {},
   "cell_type": "markdown",
   "metadata": {},
   "source": [
    "#### DISTANCE\n",
    "既然要算出最近的距离，我们就需要有一个距离函数。\n",
    "\n",
    "KNN算法中我们使用欧式距离，公式如下\n",
    "$$y=\\sqrt{\\sum_{i=1}^{n}{\\left| x_{i}-y_{i} \\right|^{2}}}$$\n",
    "\n",
    "如果你对向量搜索中使用的距离公式感兴趣,有一篇很好的博客可供参考\n",
    "\n",
    "[distance in vector search](https://weaviate.io/blog/distance-metrics-in-vector-search)\n",
    "\n",
    "##### **TASK1**:\n",
    "你需要在KNN类中的distance函数实现这一公式， **u**,**v**为numpy的数组类型，你可以假设他们都是一维数组，并且size完全相等。\n",
    "##### **HINT**:\n",
    "1. 如果你并不熟悉numpy也无需慌张,这里有一份很好的[tutorial](https://numpy.org/doc/stable/user/absolute_beginners.html)，可以帮助你快速的熟悉numpy。\n",
    "2. 无需着急，第一个task十分简单，他的主要目的是让你熟悉numpy,你大可以放松心情。\n",
    "3. python有许多有用的内置函数，你可以在[link](https://docs.python.org/3/library/functions.html)中找到。也许sum，zip可以帮助到你。\n",
    "4. 如果你对python不熟悉，这里有一份[tutorial](https://docs.python.org/3/tutorial/index.html),\n",
    "\n",
    "在你实现距离函数后，你可以尝试运行DISTANCE FUNCTION TEST的CELL，如果不出意外的话，你可以看到**Distance Pass**\n"
   ]
  },
  {
   "cell_type": "code",
   "execution_count": 27,
   "metadata": {},
   "outputs": [],
   "source": [
    "import numpy as np\n",
    "class KNN:\n",
    "\n",
    "    # Calculate the euclidean distance between V and U\n",
    "    def distance(self,v: np.ndarray, u: np.ndarray) -> float:\n",
    "        # you code here\n",
    "        return sum((v1 - v2) ** 2 for v1, v2 in zip(v,u)) ** .5\n",
    "        pass\n",
    "    \n",
    "\n",
    "    # Get the top K nearest point of query in self.data\n",
    "    # return it as a (K, 128) numpy array\n",
    "    def topK(self,query: np.ndarray, k: int) -> np.ndarray:\n",
    "        # you code here\n",
    "        pass\n",
    "\n",
    "    def read_data(self,file : str) -> np.ndarray:\n",
    "        a = np.fromfile(file, dtype='int32')\n",
    "        d = a[0]\n",
    "        return a.reshape(-1, d + 1)[:, 1:].copy().view('float32')\n",
    "\n",
    "\n",
    "    def __init__(self) -> None:\n",
    "        self.data_set = self.read_data(\"./sift/sift_base.fvecs\") "
   ]
  },
  {
   "cell_type": "code",
   "execution_count": 28,
   "metadata": {},
   "outputs": [
    {
     "name": "stdout",
     "output_type": "stream",
     "text": [
      "\u001b[92mDistance Pass\u001b[0m\n"
     ]
    }
   ],
   "source": [
    "# DISTANCE FUNCTION TEST\n",
    "knn = KNN()\n",
    "assert knn.distance(np.array([1,2]), np.array([1,3])) == 1.0, \"FAIL, EXPECT 1.0\"\n",
    "assert knn.distance(np.array([1,2,3]), np.array([1,1,1])) == 2.23606797749979, \"FAIL, EXPECT 2.23\"\n",
    "assert knn.distance(np.array([1,2]), np.array([-1,2])) == 2.0, \"FAIL, EXPECT 2.0\"\n",
    "assert knn.distance(np.array([]), np.array([])) == 0, \"FAIL, EXPECT 0\"\n",
    "assert knn.distance(np.array([1.0]), np.array([1])) == 0, \"FAIL, EXPECT 0\"\n",
    "print('\\033[92m' + \"Distance Pass\" + '\\033[0m')"
   ]
  },
  {
   "cell_type": "code",
   "execution_count": null,
   "metadata": {},
   "outputs": [],
   "source": [
    "# TEST "
   ]
  }
 ],
 "metadata": {
  "kernelspec": {
   "display_name": "Python 3",
   "language": "python",
   "name": "python3"
  },
  "language_info": {
   "codemirror_mode": {
    "name": "ipython",
    "version": 3
   },
   "file_extension": ".py",
   "mimetype": "text/x-python",
   "name": "python",
   "nbconvert_exporter": "python",
   "pygments_lexer": "ipython3",
   "version": "3.10.6"
  },
  "orig_nbformat": 4,
  "vscode": {
   "interpreter": {
    "hash": "e7370f93d1d0cde622a1f8e1c04877d8463912d04d973331ad4851f04de6915a"
   }
  }
 },
 "nbformat": 4,
 "nbformat_minor": 2
}
