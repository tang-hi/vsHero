{
 "cells": [
  {
   "attachments": {},
   "cell_type": "markdown",
   "metadata": {},
   "source": [
    "## Vector Search: From Zero To Hero\n",
    "这一系列代码教程是为了让你能够对向量搜索有一定的认识和了解，通过该教程你可以\n",
    "- 对向量搜索的算法有一个清晰的认识\n",
    "- 自己动手实现一个简单的向量搜索库\n",
    "- 对不同的向量搜索算法有一个直观的感受\n",
    "\n",
    "该教程使用Python实现，如果你没有学过Python也不用紧张，Python十分简单易懂，并且该教程更专注于算法实现。\n",
    "\n",
    "该教程使用sift1M作为数据集。唯一依赖的就是numpy。\n",
    "\n",
    "该教程会使用TDD风格进行开发。希望你可以接受。"
   ]
  },
  {
   "cell_type": "code",
   "execution_count": 1,
   "metadata": {},
   "outputs": [
    {
     "name": "stdout",
     "output_type": "stream",
     "text": [
      "Welcome to Vector Search! Hope you will become Vector Search Hero!\n"
     ]
    }
   ],
   "source": [
    "print('Welcome to Vector Search! Hope you will become Vector Search Hero!')"
   ]
  },
  {
   "attachments": {},
   "cell_type": "markdown",
   "metadata": {},
   "source": [
    "### Prepare Data\n",
    "如果你已经下载了数据，可以直接跳过这个cell"
   ]
  },
  {
   "cell_type": "code",
   "execution_count": 2,
   "metadata": {},
   "outputs": [],
   "source": [
    "import shutil\n",
    "import urllib.request as request\n",
    "import tarfile\n",
    "from contextlib import closing\n",
    "\n",
    "# download the Sift1M dataset\n",
    "with closing(request.urlopen('ftp://ftp.irisa.fr/local/texmex/corpus/sift.tar.gz')) as r:\n",
    "    with open('sift.tar.gz', 'wb') as f:\n",
    "        shutil.copyfileobj(r, f)\n",
    "\n",
    "\n",
    "# the download leaves us with a tar.gz file, we unzip it\n",
    "tar = tarfile.open('sift.tar.gz', \"r:gz\")\n",
    "tar.extractall()"
   ]
  },
  {
   "attachments": {},
   "cell_type": "markdown",
   "metadata": {},
   "source": [
    "### The K-Nearest Neighbors (kNN)\n",
    "KNN 是向量搜索中最简单的一个算法，首先想象一个二维平面中有许多的点，当你想要得到距离某一个点最近的K个点时，最朴素的算法就是遍历所有的点，挨个计算距离\n",
    "并始终保存K个最近的点，当遍历结束，也就得到了最近的K个点。\n",
    "\n",
    "向量搜索中大部分的向量都是高维向量，但是思想是相同的，因此KNN算法可以很轻易的从二维空间延展到多维空间。\n",
    "\n",
    "KNN的缺点\n",
    "1. 计算量大\n",
    "2. 空间复杂度高\n",
    "\n",
    "优点就是简单易于实现，因此这一份教程以KNN作为开篇，让你可以更容易的熟悉这个教程的风格以及流程。\n",
    "\n",
    "首先我们为KNN编写测试用例"
   ]
  },
  {
   "cell_type": "code",
   "execution_count": null,
   "metadata": {},
   "outputs": [],
   "source": [
    "\"\"\"\n",
    "dataset  is the sift1M or custom datasize\n",
    "query    is point we interesting\n",
    "k        is the top-k nearest neighbors\n",
    "expected is the result we expected\n",
    "\"\"\"\n",
    "def knn_test(dataset, query, k, knn_algorithm, expected):\n",
    "    actual = knn_algorithm(query, k, dataset)\n",
    "    assert actual == expected\n",
    "\n",
    "\"\"\"\n",
    "We will use 3 test case to test your algorithm's correctness\n",
    "knn_test()\n",
    "\n",
    "\"\"\""
   ]
  },
  {
   "attachments": {},
   "cell_type": "markdown",
   "metadata": {},
   "source": [
    "#### DISTANCE\n",
    "既然要算出最近的距离，我们就需要有一个距离函数。\n",
    "\n",
    "KNN算法中我们使用欧式距离，公式如下\n",
    "$$y=\\sqrt{\\sum_{i=1}^{n}{\\left| x_{i}-y_{i} \\right|^{2}}}$$\n",
    "\n",
    "如果你对向量搜索中使用的距离公式感兴趣,有一篇很好的博客可供参考\n",
    "\n",
    "[https://weaviate.io/blog/distance-metrics-in-vector-search](https://weaviate.io/blog/distance-metrics-in-vector-search)"
   ]
  },
  {
   "cell_type": "code",
   "execution_count": null,
   "metadata": {},
   "outputs": [],
   "source": [
    "def euclidean(v, u):\n",
    "    distance = sum((x - y) ** 2 for x, y in zip(v, u)) ** .5\n",
    "    return distance"
   ]
  }
 ],
 "metadata": {
  "kernelspec": {
   "display_name": "Python 3",
   "language": "python",
   "name": "python3"
  },
  "language_info": {
   "codemirror_mode": {
    "name": "ipython",
    "version": 3
   },
   "file_extension": ".py",
   "mimetype": "text/x-python",
   "name": "python",
   "nbconvert_exporter": "python",
   "pygments_lexer": "ipython3",
   "version": "3.10.6"
  },
  "orig_nbformat": 4,
  "vscode": {
   "interpreter": {
    "hash": "e7370f93d1d0cde622a1f8e1c04877d8463912d04d973331ad4851f04de6915a"
   }
  }
 },
 "nbformat": 4,
 "nbformat_minor": 2
}
